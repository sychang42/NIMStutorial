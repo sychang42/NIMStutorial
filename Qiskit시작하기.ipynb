{
 "cells": [
  {
   "cell_type": "markdown",
   "metadata": {
    "id": "6_sTalKE8Pqb"
   },
   "source": [
    "# Qiskit 시작하기"
   ]
  },
  {
   "cell_type": "markdown",
   "metadata": {
    "id": "aEXhS_eE8Pqj"
   },
   "source": [
    "### Qiskit 설치"
   ]
  },
  {
   "cell_type": "code",
   "execution_count": null,
   "metadata": {
    "colab": {
     "base_uri": "https://localhost:8080/"
    },
    "id": "NmL5zP6P8Pqm",
    "outputId": "4c0749f6-05b4-4227-89db-a7a74f26931e"
   },
   "outputs": [],
   "source": [
    "!pip install qiskit --upgrade\n",
    "!pip install qiskit-ibm-provider\n",
    "!pip install pylatexenc"
   ]
  },
  {
   "cell_type": "markdown",
   "metadata": {
    "id": "y3OHv9wp8Pqs"
   },
   "source": [
    "#### Import Packages"
   ]
  },
  {
   "cell_type": "code",
   "execution_count": 2,
   "metadata": {
    "colab": {
     "base_uri": "https://localhost:8080/"
    },
    "id": "xxWAy8xt8Pqv",
    "outputId": "ed86445b-264c-4f70-aede-ab13064a3b07"
   },
   "outputs": [
    {
     "ename": "ModuleNotFoundError",
     "evalue": "No module named 'numpy'",
     "output_type": "error",
     "traceback": [
      "\u001b[0;31m---------------------------------------------------------------------------\u001b[0m",
      "\u001b[0;31mModuleNotFoundError\u001b[0m                       Traceback (most recent call last)",
      "\u001b[0;32m/tmp/ipykernel_4166306/2891818206.py\u001b[0m in \u001b[0;36m<module>\u001b[0;34m\u001b[0m\n\u001b[0;32m----> 1\u001b[0;31m \u001b[0;32mimport\u001b[0m \u001b[0mnumpy\u001b[0m \u001b[0;32mas\u001b[0m \u001b[0mnp\u001b[0m\u001b[0;34m\u001b[0m\u001b[0;34m\u001b[0m\u001b[0m\n\u001b[0m\u001b[1;32m      2\u001b[0m \u001b[0;32mimport\u001b[0m \u001b[0mqiskit\u001b[0m\u001b[0;34m\u001b[0m\u001b[0;34m\u001b[0m\u001b[0m\n\u001b[1;32m      3\u001b[0m \u001b[0mprint\u001b[0m\u001b[0;34m(\u001b[0m\u001b[0mqiskit\u001b[0m\u001b[0;34m.\u001b[0m\u001b[0m__version__\u001b[0m\u001b[0;34m)\u001b[0m\u001b[0;34m\u001b[0m\u001b[0;34m\u001b[0m\u001b[0m\n\u001b[1;32m      4\u001b[0m \u001b[0;32mfrom\u001b[0m \u001b[0mqiskit\u001b[0m \u001b[0;32mimport\u001b[0m \u001b[0mQuantumCircuit\u001b[0m\u001b[0;34m,\u001b[0m \u001b[0mQuantumRegister\u001b[0m\u001b[0;34m,\u001b[0m \u001b[0mClassicalRegister\u001b[0m\u001b[0;34m,\u001b[0m \u001b[0mexecute\u001b[0m\u001b[0;34m\u001b[0m\u001b[0;34m\u001b[0m\u001b[0m\n",
      "\u001b[0;31mModuleNotFoundError\u001b[0m: No module named 'numpy'"
     ]
    }
   ],
   "source": [
    "import numpy as np\n",
    "import qiskit\n",
    "print(qiskit.__version__)\n",
    "from qiskit import QuantumCircuit, QuantumRegister, ClassicalRegister, execute"
   ]
  },
  {
   "cell_type": "markdown",
   "metadata": {
    "id": "AMQxFT8D8Pq2"
   },
   "source": [
    "## 1. 중첩상태 생성\n",
    "\n",
    "\n",
    "*양자중첩* 은 양자 시스템이 여러 상태로 존재할 수 있는 능력을 설명하는 기본 개념으로, 고전적인 시스템 (Classical system)과 구별되는 양자 개념입니다. \n",
    "양자 컴퓨터에서는 *하다마드 게이트 (Hadamard gate)* 를 이용하여 $|0\\rangle$와 $|1\\rangle$의 등가중첩을 생성할 수 있습니다. \n",
    "\n",
    "$$\n",
    "H|0\\rangle = \\frac{1}{\\sqrt{2}}(|0\\rangle + |1\\rangle) = |+\\rangle\n",
    "$$\n",
    "$$\n",
    "H|1\\rangle = \\frac{1}{\\sqrt{2}}(|0\\rangle - |1\\rangle) = |-\\rangle\n",
    "$$"
   ]
  },
  {
   "cell_type": "markdown",
   "metadata": {
    "id": "dYO_nMy98Pq5"
   },
   "source": [
    "#### 양자 회로 구축하기 "
   ]
  },
  {
   "cell_type": "code",
   "execution_count": 1,
   "metadata": {
    "colab": {
     "base_uri": "https://localhost:8080/",
     "height": 127
    },
    "id": "qh7qTSFK8Pq9",
    "outputId": "8bdf9400-dd86-47ec-c918-7908e6723832"
   },
   "outputs": [
    {
     "ename": "NameError",
     "evalue": "name 'QuantumCircuit' is not defined",
     "output_type": "error",
     "traceback": [
      "\u001b[0;31m---------------------------------------------------------------------------\u001b[0m",
      "\u001b[0;31mNameError\u001b[0m                                 Traceback (most recent call last)",
      "\u001b[0;32m/tmp/ipykernel_4166306/962544726.py\u001b[0m in \u001b[0;36m<module>\u001b[0;34m\u001b[0m\n\u001b[1;32m      1\u001b[0m \u001b[0;31m# 큐비트 1개로 양자 회로 인스턴스 생성\u001b[0m\u001b[0;34m\u001b[0m\u001b[0;34m\u001b[0m\u001b[0m\n\u001b[0;32m----> 2\u001b[0;31m \u001b[0mcircuit1\u001b[0m \u001b[0;34m=\u001b[0m \u001b[0mQuantumCircuit\u001b[0m\u001b[0;34m(\u001b[0m\u001b[0;36m1\u001b[0m\u001b[0;34m)\u001b[0m\u001b[0;34m\u001b[0m\u001b[0;34m\u001b[0m\u001b[0m\n\u001b[0m\u001b[1;32m      3\u001b[0m \u001b[0;34m\u001b[0m\u001b[0m\n\u001b[1;32m      4\u001b[0m \u001b[0;31m# 하다마드 게이트 적용\u001b[0m\u001b[0;34m\u001b[0m\u001b[0;34m\u001b[0m\u001b[0m\n\u001b[1;32m      5\u001b[0m \u001b[0mcircuit1\u001b[0m\u001b[0;34m.\u001b[0m\u001b[0mh\u001b[0m\u001b[0;34m(\u001b[0m\u001b[0;36m0\u001b[0m\u001b[0;34m)\u001b[0m\u001b[0;34m\u001b[0m\u001b[0;34m\u001b[0m\u001b[0m\n",
      "\u001b[0;31mNameError\u001b[0m: name 'QuantumCircuit' is not defined"
     ]
    }
   ],
   "source": [
    "# 큐비트 1개로 양자 회로 인스턴스 생성 \n",
    "circuit1 = QuantumCircuit(1)\n",
    "\n",
    "# 하다마드 게이트 적용 \n",
    "circuit1.h(0)\n",
    "\n",
    "# 양자 회로 그리기\n",
    "circuit1.draw(output = \"mpl\")"
   ]
  },
  {
   "cell_type": "markdown",
   "metadata": {
    "id": "9K0kqB9e8PrA"
   },
   "source": [
    "####  상태 벡터 시뮬레이터 (Statevector simulator)로 양자 회로 시뮬레이션"
   ]
  },
  {
   "cell_type": "markdown",
   "metadata": {
    "id": "M_q5I3i08PrE"
   },
   "source": [
    "`backend` (백엔드) 는 결과를 얻기 위해 양자 회로를 실행하거나 시뮬레이션하는 장치 또는 시뮬레이터를 의미합니다. Qiskit에는 오픈소스에서 사용할 수 있는 이론적 시뮬레이터들을 제공하고 있습니다. "
   ]
  },
  {
   "cell_type": "code",
   "execution_count": 3,
   "metadata": {
    "colab": {
     "base_uri": "https://localhost:8080/"
    },
    "id": "hT9kjVu68PrG",
    "outputId": "81d67fec-5952-477a-8acd-1942486a50e6"
   },
   "outputs": [
    {
     "ename": "ModuleNotFoundError",
     "evalue": "No module named 'numpy'",
     "output_type": "error",
     "traceback": [
      "\u001b[0;31m---------------------------------------------------------------------------\u001b[0m",
      "\u001b[0;31mModuleNotFoundError\u001b[0m                       Traceback (most recent call last)",
      "\u001b[0;32m/tmp/ipykernel_4166306/3255970706.py\u001b[0m in \u001b[0;36m<module>\u001b[0;34m\u001b[0m\n\u001b[0;32m----> 1\u001b[0;31m \u001b[0;32mfrom\u001b[0m \u001b[0mqiskit\u001b[0m \u001b[0;32mimport\u001b[0m \u001b[0mAer\u001b[0m\u001b[0;34m\u001b[0m\u001b[0;34m\u001b[0m\u001b[0m\n\u001b[0m\u001b[1;32m      2\u001b[0m \u001b[0;34m\u001b[0m\u001b[0m\n\u001b[1;32m      3\u001b[0m \u001b[0;31m# 사용 가능한 모든 양자 시뮬레이터 출력\u001b[0m\u001b[0;34m\u001b[0m\u001b[0;34m\u001b[0m\u001b[0m\n\u001b[1;32m      4\u001b[0m \u001b[0mAer\u001b[0m\u001b[0;34m.\u001b[0m\u001b[0mbackends\u001b[0m\u001b[0;34m(\u001b[0m\u001b[0;34m)\u001b[0m\u001b[0;34m\u001b[0m\u001b[0;34m\u001b[0m\u001b[0m\n",
      "\u001b[0;32m/data/suchang/anaconda3/lib/python3.9/site-packages/qiskit/__init__.py\u001b[0m in \u001b[0;36m<module>\u001b[0;34m\u001b[0m\n\u001b[1;32m     24\u001b[0m \u001b[0;34m\u001b[0m\u001b[0m\n\u001b[1;32m     25\u001b[0m \u001b[0;31m# The main qiskit operators\u001b[0m\u001b[0;34m\u001b[0m\u001b[0;34m\u001b[0m\u001b[0m\n\u001b[0;32m---> 26\u001b[0;31m \u001b[0;32mfrom\u001b[0m \u001b[0mqiskit\u001b[0m\u001b[0;34m.\u001b[0m\u001b[0mcircuit\u001b[0m \u001b[0;32mimport\u001b[0m \u001b[0mClassicalRegister\u001b[0m\u001b[0;34m\u001b[0m\u001b[0;34m\u001b[0m\u001b[0m\n\u001b[0m\u001b[1;32m     27\u001b[0m \u001b[0;32mfrom\u001b[0m \u001b[0mqiskit\u001b[0m\u001b[0;34m.\u001b[0m\u001b[0mcircuit\u001b[0m \u001b[0;32mimport\u001b[0m \u001b[0mQuantumRegister\u001b[0m\u001b[0;34m\u001b[0m\u001b[0;34m\u001b[0m\u001b[0m\n\u001b[1;32m     28\u001b[0m \u001b[0;32mfrom\u001b[0m \u001b[0mqiskit\u001b[0m\u001b[0;34m.\u001b[0m\u001b[0mcircuit\u001b[0m \u001b[0;32mimport\u001b[0m \u001b[0mAncillaRegister\u001b[0m\u001b[0;34m\u001b[0m\u001b[0;34m\u001b[0m\u001b[0m\n",
      "\u001b[0;32m/data/suchang/anaconda3/lib/python3.9/site-packages/qiskit/circuit/__init__.py\u001b[0m in \u001b[0;36m<module>\u001b[0;34m\u001b[0m\n\u001b[1;32m    212\u001b[0m    \u001b[0mrandom\u001b[0m\u001b[0;34m.\u001b[0m\u001b[0mrandom_circuit\u001b[0m\u001b[0;34m\u001b[0m\u001b[0;34m\u001b[0m\u001b[0m\n\u001b[1;32m    213\u001b[0m \"\"\"\n\u001b[0;32m--> 214\u001b[0;31m \u001b[0;32mfrom\u001b[0m \u001b[0;34m.\u001b[0m\u001b[0mquantumcircuit\u001b[0m \u001b[0;32mimport\u001b[0m \u001b[0mQuantumCircuit\u001b[0m\u001b[0;34m\u001b[0m\u001b[0;34m\u001b[0m\u001b[0m\n\u001b[0m\u001b[1;32m    215\u001b[0m \u001b[0;32mfrom\u001b[0m \u001b[0;34m.\u001b[0m\u001b[0mclassicalregister\u001b[0m \u001b[0;32mimport\u001b[0m \u001b[0mClassicalRegister\u001b[0m\u001b[0;34m,\u001b[0m \u001b[0mClbit\u001b[0m\u001b[0;34m\u001b[0m\u001b[0;34m\u001b[0m\u001b[0m\n\u001b[1;32m    216\u001b[0m \u001b[0;32mfrom\u001b[0m \u001b[0;34m.\u001b[0m\u001b[0mquantumregister\u001b[0m \u001b[0;32mimport\u001b[0m \u001b[0mQuantumRegister\u001b[0m\u001b[0;34m,\u001b[0m \u001b[0mQubit\u001b[0m\u001b[0;34m,\u001b[0m \u001b[0mAncillaRegister\u001b[0m\u001b[0;34m,\u001b[0m \u001b[0mAncillaQubit\u001b[0m\u001b[0;34m\u001b[0m\u001b[0;34m\u001b[0m\u001b[0m\n",
      "\u001b[0;32m/data/suchang/anaconda3/lib/python3.9/site-packages/qiskit/circuit/quantumcircuit.py\u001b[0m in \u001b[0;36m<module>\u001b[0;34m\u001b[0m\n\u001b[1;32m     22\u001b[0m \u001b[0;32mfrom\u001b[0m \u001b[0mcollections\u001b[0m \u001b[0;32mimport\u001b[0m \u001b[0mOrderedDict\u001b[0m\u001b[0;34m,\u001b[0m \u001b[0mdefaultdict\u001b[0m\u001b[0;34m\u001b[0m\u001b[0;34m\u001b[0m\u001b[0m\n\u001b[1;32m     23\u001b[0m \u001b[0;32mfrom\u001b[0m \u001b[0mtyping\u001b[0m \u001b[0;32mimport\u001b[0m \u001b[0mUnion\u001b[0m\u001b[0;34m\u001b[0m\u001b[0;34m\u001b[0m\u001b[0m\n\u001b[0;32m---> 24\u001b[0;31m \u001b[0;32mimport\u001b[0m \u001b[0mnumpy\u001b[0m \u001b[0;32mas\u001b[0m \u001b[0mnp\u001b[0m\u001b[0;34m\u001b[0m\u001b[0;34m\u001b[0m\u001b[0m\n\u001b[0m\u001b[1;32m     25\u001b[0m \u001b[0;32mfrom\u001b[0m \u001b[0mqiskit\u001b[0m\u001b[0;34m.\u001b[0m\u001b[0mexceptions\u001b[0m \u001b[0;32mimport\u001b[0m \u001b[0mQiskitError\u001b[0m\u001b[0;34m,\u001b[0m \u001b[0mMissingOptionalLibraryError\u001b[0m\u001b[0;34m\u001b[0m\u001b[0;34m\u001b[0m\u001b[0m\n\u001b[1;32m     26\u001b[0m \u001b[0;32mfrom\u001b[0m \u001b[0mqiskit\u001b[0m\u001b[0;34m.\u001b[0m\u001b[0mutils\u001b[0m\u001b[0;34m.\u001b[0m\u001b[0mmultiprocessing\u001b[0m \u001b[0;32mimport\u001b[0m \u001b[0mis_main_process\u001b[0m\u001b[0;34m\u001b[0m\u001b[0;34m\u001b[0m\u001b[0m\n",
      "\u001b[0;31mModuleNotFoundError\u001b[0m: No module named 'numpy'"
     ]
    }
   ],
   "source": [
    "from qiskit import Aer\n",
    "\n",
    "# 사용 가능한 모든 양자 시뮬레이터 출력 \n",
    "Aer.backends()"
   ]
  },
  {
   "cell_type": "markdown",
   "metadata": {
    "id": "frzU9JSx8PrI"
   },
   "source": [
    "이제 이상적인 양자 회로를 시뮬레이션 하는 가장 일반적인 백엔드인 Qiskit `statevector_simulator`를 이용하여 양자 회로를 시뮬레이션 해보겠습니다. 이 백엔드는 양자 상태를 벡터 형태로 반환합니다. "
   ]
  },
  {
   "cell_type": "code",
   "execution_count": null,
   "metadata": {
    "colab": {
     "base_uri": "https://localhost:8080/"
    },
    "id": "_I54-zLu8PrJ",
    "outputId": "07745501-2d86-4468-de51-9afc15942fc7"
   },
   "outputs": [],
   "source": [
    "# statevector simulator 로드하기 \n",
    "simulator = Aer.get_backend(\"statevector_simulator\")\n",
    "\n",
    "# 실행할 양자 작업 (quantum job) 생성하기\n",
    "job1 = simulator.run(circuit1)\n",
    "\n",
    "# Job 실행\n",
    "result1 = job1.result()\n",
    "\n",
    "state1 = result1.get_statevector(circuit1, decimals = 4)\n",
    "print(state1)"
   ]
  },
  {
   "cell_type": "markdown",
   "metadata": {
    "id": "eSOblB5V8PrL"
   },
   "source": [
    "### 양자상태를 블로흐 구체에 시각화 "
   ]
  },
  {
   "cell_type": "markdown",
   "metadata": {
    "id": "TH-ewUUF8PrM"
   },
   "source": [
    "이제 양자상태를 *블로흐 구 (Bloch Sphere)* 에 나타내보도록 하겠습니다. "
   ]
  },
  {
   "cell_type": "code",
   "execution_count": null,
   "metadata": {
    "colab": {
     "base_uri": "https://localhost:8080/",
     "height": 423
    },
    "id": "1GazgdCm8PrN",
    "outputId": "7e8bfdad-0a2d-4011-a3e8-7864ea921d60"
   },
   "outputs": [],
   "source": [
    "state1.draw(output = \"bloch\")"
   ]
  },
  {
   "cell_type": "markdown",
   "metadata": {
    "id": "6FEzXVyS8PrP"
   },
   "source": [
    "### 단일 큐비트 게이트 테스트 "
   ]
  },
  {
   "cell_type": "markdown",
   "metadata": {
    "id": "vaBX-umT8PrR"
   },
   "source": [
    "상태 벡터 시뮬레이터 `statevector_simulator` 를 사용하여 다양한 단일 양자 게이트를 테스트하고 블로흐 구에서 시각화해봅시다."
   ]
  },
  {
   "cell_type": "code",
   "execution_count": null,
   "metadata": {
    "colab": {
     "base_uri": "https://localhost:8080/",
     "height": 206
    },
    "id": "m8CXYen78PrT",
    "outputId": "e7ae81cd-24f8-4d94-89dd-456445e4b522"
   },
   "outputs": [],
   "source": [
    "#  RX / RY / S /T 게이트 적용\n",
    "###### To do ######\n",
    "\n",
    "\n",
    "###################\n",
    "state.draw(output = \"bloch\")"
   ]
  },
  {
   "cell_type": "markdown",
   "metadata": {
    "id": "PnKjMOTA8PrV"
   },
   "source": [
    "## 2. 벨상태 생성하기 \n",
    "\n",
    "*벨 상태 (Bell state)*, 혹은 *EPR 쌍 (Einstein-Podolsky-Rosen pair)* 은 한 직교 기저에서 최대로 얽혀있는 2-큐비트 상태입니다. 얽힘은 양자 시스템을 특징짓는 또 다른 중요한 현상으로, 두 개 이상의 입자의 양자 상태가 입자 사이의 거리에 관계없이 한 입자의 상태를 다른 입자와 독립적으로 설명할 수 없는 방식으로 상호 연관되는 현상입니다.\n",
    "\n",
    "양자 회로에서 벨 상태는 $|00\\rangle$ 초기 상태에 일련의 양자 게이트를 적용하여 생성할 수 있습니다:\n",
    "\n",
    "$$\n",
    "\\begin{align}\n",
    "& \\text{Initial State} = |00\\rangle \\nonumber \\\\ \\to & H_0|00\\rangle  = \\frac{1}{\\sqrt{2}} (|00\\rangle + |10\\rangle) \\nonumber \\\\\n",
    "\\to & CNOT_{01}  \\frac{1}{\\sqrt{2}} (|00\\rangle + |10\\rangle) = \\frac{1}{\\sqrt{2}} (|00\\rangle + |11\\rangle)\n",
    "\\end{align}$$  "
   ]
  },
  {
   "cell_type": "code",
   "execution_count": null,
   "metadata": {
    "id": "stqAsFU18PrX"
   },
   "outputs": [],
   "source": [
    "# 두 개의 양자 레지스터와 두 개의 클래식 레지스터로 양자 회로 만들기\n",
    "circuit2 = QuantumCircuit(2, 2)\n",
    "\n",
    "# 위에 주어진 표현식에 따라 벨상태 생성하기 \n",
    "# 1. 첫번째 큐비트에 하다마드 게이트 적용\n",
    "# 2. CNOT 게이트를 통해서 얽힘 상태 생성 \n",
    "###### To Do ######\n",
    "\n",
    "\n",
    "\n",
    "###################"
   ]
  },
  {
   "cell_type": "code",
   "execution_count": null,
   "metadata": {
    "id": "-qL4PMWK8PrZ"
   },
   "outputs": [],
   "source": [
    "# 양자 회로 시각화하기 \n",
    "circuit2.draw(output = 'mpl')"
   ]
  },
  {
   "cell_type": "code",
   "execution_count": null,
   "metadata": {
    "id": "dw1LwaZE8Pre"
   },
   "outputs": [],
   "source": [
    "# 실행할 양자 작업 (quantum job) 생성하기\n",
    "job2 = simulator.run(circuit2)\n",
    "\n",
    "# Job 실행\n",
    "result2 = job2.result()\n",
    "\n",
    "state2 = result2.get_statevector(circuit2, decimals = 4)\n",
    "print(state2)"
   ]
  },
  {
   "cell_type": "markdown",
   "metadata": {
    "id": "jzK_Suhw8Prj"
   },
   "source": [
    "#### 양자 상태 시각화하기 "
   ]
  },
  {
   "cell_type": "markdown",
   "metadata": {
    "id": "VNg-rMVn8Prm"
   },
   "source": [
    "다중 큐비트 상태는 블로흐 구 이외의 방법으로 시각화 할 수 있습니다. \n",
    "- `plot_state_city` : 양자 상태를 상태 행렬의 실수와 허수 부분으로 표시합니다.\n",
    "- `plot_state_hinton` : `plot_state_city`와 같지만 이차원 컬러 플롯으로 양자상태를 표시합니다. \n",
    "- `plot_state_qsphere` : 양자 상태를 구형 공 위에 벡터로 표시합니다. 화살표의 굵기는 양자 상태의 진폭 (amplitude)에 해당하며, 생상은 위상 (phase)에 해당합니다. "
   ]
  },
  {
   "cell_type": "code",
   "execution_count": 9,
   "metadata": {
    "id": "2_lvviV58Prn"
   },
   "outputs": [],
   "source": [
    "from qiskit.visualization import plot_state_city, plot_state_hinton, plot_state_qsphere, \\\n",
    "                                 plot_histogram"
   ]
  },
  {
   "cell_type": "code",
   "execution_count": null,
   "metadata": {
    "id": "uEaGZzUl8Pro"
   },
   "outputs": [],
   "source": [
    "plot_state_city(state2)"
   ]
  },
  {
   "cell_type": "code",
   "execution_count": null,
   "metadata": {
    "id": "GAOWe-tZ8Prq"
   },
   "outputs": [],
   "source": [
    "plot_state_hinton(state2)"
   ]
  },
  {
   "cell_type": "code",
   "execution_count": null,
   "metadata": {
    "id": "EymprXdv8Prs"
   },
   "outputs": [],
   "source": [
    "plot_state_qsphere(state2)"
   ]
  },
  {
   "cell_type": "markdown",
   "metadata": {
    "id": "HhaFo6tW8Pru"
   },
   "source": [
    "__To do :__   $|-\\rangle = \\frac{1}{\\sqrt{2}}(|0\\rangle - |1\\rangle)$를 생성하는 양자 회로를 구축하고 다양한 시각화 방법을 통해서 표시해봅시다. "
   ]
  },
  {
   "cell_type": "markdown",
   "metadata": {
    "id": "F4C5KevW8Prv"
   },
   "source": [
    "#### 유니터리 시뮬레이터로 시뮬레이션 하기"
   ]
  },
  {
   "cell_type": "code",
   "execution_count": null,
   "metadata": {
    "id": "gtR15EiF8Prw"
   },
   "outputs": [],
   "source": [
    "# 유니터리 시뮬레이터로 양자 회로 실행하기 \n",
    "backend = Aer.get_backend('unitary_simulator')\n",
    "\n",
    "# Job 생성 후 실행\n",
    "job2 = backend.run(circuit2)\n",
    "result2 = job2.result()\n",
    "\n",
    "# 결과 표시 \n",
    "print(result2.get_unitary(circuit2, decimals=3))\n"
   ]
  },
  {
   "cell_type": "markdown",
   "metadata": {
    "id": "K6fiUeU68Pr0"
   },
   "source": [
    "#### Qasm 시뮬레이터를 이용한 시뮬레이션 \n",
    "\n",
    "지금까지 우리는 이상적인 양자 회로를 \"시뮬레이션\" 했습니다. 하지만 실제로는 우리는 양자 상태에 직접 접근할 수 없습니다. 대신, 각 큐비트는 양자 회로 끝에서 특적 *직교기저* (일반적으로 $|0\\rangle, |1\\rangle$ 기저)를 이용해 *측정*됩니다. 양자 상태를 측정하는 순간, 상태 $|\\psi\\rangle$는 확률 $P(b)$로 기저 $|b\\rangle$로 *붕괴*합니다 :\n",
    "$$\n",
    "P(b) == |\\langle b | \\psi \\rangle |^2.\n",
    "$$\n",
    "양자 회로를 시뮬레이션하기 위해 양자 레지스터 `QuantumRegister`만 필요했던 이전 단계들과 달리, 양자 회로를 측정하기 위해서는 클래식 레지스터 `ClassicalRegister`를 추가해야 합니다."
   ]
  },
  {
   "cell_type": "code",
   "execution_count": null,
   "metadata": {
    "colab": {
     "base_uri": "https://localhost:8080/",
     "height": 255
    },
    "id": "xH0LzQFa8Psi",
    "outputId": "0bccb2b8-dc69-42ac-b900-af29f193b8a4"
   },
   "outputs": [],
   "source": [
    "# 양자 레지스터와 클래식 레지스터 생성\n",
    "qr = QuantumRegister(2)\n",
    "cr = ClassicalRegister(2)\n",
    "\n",
    "# 양자 회로 구축 \n",
    "circuit3 = QuantumCircuit(qr, cr)\n",
    "\n",
    "# 벨 상태 생성\n",
    "###### To Do ######\n",
    "\n",
    "\n",
    "###################\n",
    "\n",
    "# 큐비트 측정\n",
    "circuit3.measure(qr, cr)\n",
    "#circuit.measure_all()\n",
    "\n",
    "\n",
    "circuit3.draw(output = 'mpl')"
   ]
  },
  {
   "cell_type": "code",
   "execution_count": null,
   "metadata": {
    "id": "OmJcmGcn8Psl"
   },
   "outputs": [],
   "source": [
    "backend = Aer.get_backend(\"qasm_simulator\")"
   ]
  },
  {
   "cell_type": "code",
   "execution_count": null,
   "metadata": {
    "id": "QYpQqbou8Pso"
   },
   "outputs": [],
   "source": [
    "shots = 1024\n",
    "job3 = execute(circuit3, backend, shots = shots)\n",
    "result3 = job3.result()"
   ]
  },
  {
   "cell_type": "code",
   "execution_count": null,
   "metadata": {
    "colab": {
     "base_uri": "https://localhost:8080/",
     "height": 461
    },
    "id": "ATqMQEk48Psp",
    "outputId": "12e78382-f03f-4cd7-91b2-3d2bce815872"
   },
   "outputs": [],
   "source": [
    "counts = result3.get_counts()\n",
    "plot_histogram(counts)"
   ]
  },
  {
   "cell_type": "markdown",
   "metadata": {
    "id": "AD1k7tc38PtE"
   },
   "source": [
    "### 노이즈 모델을 통해 양자 회로 실행하기 \n",
    "\n",
    "지금까지 우리는 양자 회로를 양자 노이즈가 없는 이상적인 환경에서 시뮬레이션하였습니다. 그러나 현실에서는 양자 컴퓨터는 *게이크 오류*, *측정 오류* 와 같은 다양한 노이즈소스로 인한 오류에 노출되어있습니다. \n",
    "\n",
    "Qiskit은 실제 양자 하드웨어에서 실행될 때 양자회로가 경험하는 노이즈를 모방한 *노이즈 모델* [*noise models*](https://qiskit.org/ecosystem/aer/tutorials/3_building_noise_models.html)를 제공합니다. 이를 통해 사용자는 접근이 제한된 실제 장치에서 실행하기 전, 양자 회로 실행 시 발생할 수 있는 오류와 양자 알고리즘의 문제점에 대해서 이해할 수 있습니다.  \n",
    "\n",
    "이 섹션에서는 실제 IBM 양자 디바이스인 *IBMQ_lima*를 모방한 노이즈 모델을 사용하여 양자 회로를 실행해 보겠습니다. 이를 위해 먼저 [IBM Quantum](https://quantum-computing.ibm.com/) 계정을 생성해야합니다."
   ]
  },
  {
   "cell_type": "code",
   "execution_count": null,
   "metadata": {
    "id": "I_HdGwQg8PtJ"
   },
   "outputs": [],
   "source": [
    "from qiskit_aer import AerSimulator\n",
    "from qiskit_ibm_provider import IBMProvider"
   ]
  },
  {
   "cell_type": "markdown",
   "metadata": {
    "id": "z6hTA05U8PtK"
   },
   "source": [
    "1. [IBM Quantum](https://quantum-computing.ibm.com/) 웹사이트에 접속합니다. \n",
    "\n",
    "<img src=\"images/ibmq1.png\" alt=\"ibmq_image1\" width=\"600\"/>\n",
    "\n",
    "2. 새로운 IBM Quantum 계정을 생성합니다. \n",
    "\n",
    "<img src=\"images/ibmq2.png\" alt=\"ibmq_image2\" width=\"600\"/>\n",
    "\n",
    "3. 계정 설정으로 이동합니다.\n",
    "\n",
    "<img src=\"images/ibmq3.png\" alt=\"ibmq_image3\" width=\"600\"/>\n",
    "\n",
    "\n",
    "4. API 토큰을 생성하고 복사합니다.\n",
    "\n",
    "<img src=\"images/ibmq4.png\" alt=\"ibmq_image4\" width=\"600\"/>\n"
   ]
  },
  {
   "cell_type": "code",
   "execution_count": null,
   "metadata": {
    "id": "ZWleIR888PtM"
   },
   "outputs": [],
   "source": [
    "# 디스트에 credential 을 저장합니다 \n",
    "IBMProvider.save_account(\"Your token\", overwrite= True)"
   ]
  },
  {
   "cell_type": "code",
   "execution_count": null,
   "metadata": {
    "id": "H7j58nIT8PtQ"
   },
   "outputs": [],
   "source": [
    "# IBM 인스턴스 로드하기 \n",
    "provider = IBMProvider(instance='ibm-q/open/main')"
   ]
  },
  {
   "cell_type": "code",
   "execution_count": null,
   "metadata": {
    "colab": {
     "base_uri": "https://localhost:8080/"
    },
    "id": "jvOvVytW8PtR",
    "outputId": "0ce8f805-ca0e-495b-ea0f-552c6c413320"
   },
   "outputs": [],
   "source": [
    "print(provider.backends())"
   ]
  },
  {
   "cell_type": "code",
   "execution_count": null,
   "metadata": {
    "id": "7L9nQk-z8PtT"
   },
   "outputs": [],
   "source": [
    "# IBQ lima를 로드하기 \n",
    "device_backend = provider.get_backend('ibmq_lima')"
   ]
  },
  {
   "cell_type": "code",
   "execution_count": null,
   "metadata": {
    "colab": {
     "base_uri": "https://localhost:8080/"
    },
    "id": "u2_NqxdX8PtU",
    "outputId": "f1991263-30f1-4e1c-e3c1-40d06bc07640"
   },
   "outputs": [],
   "source": [
    "# 디바이스 구성을 표시 \n",
    "\n",
    "config = device_backend.configuration()\n",
    "print(\"This backend is called {} (version {}) with {} qubit{}. \"\n",
    "      \"\\nThe basis gates supported on this device are {}.\"\n",
    "      \"\".format(config.backend_name,\n",
    "                config.backend_version,\n",
    "                config.n_qubits,\n",
    "                '' if config.n_qubits == 1 else 's',\n",
    "                config.basis_gates))"
   ]
  },
  {
   "cell_type": "markdown",
   "metadata": {
    "id": "IXdN3vLH8PtY"
   },
   "source": [
    "이상적으로는, 모든 큐비트가 다른 모든 큐비트에 연결되어 있다고 가정합니다. 그러나 실제 양자 컴퓨터에서 물리적 큐비트는 *커넥티비티 (Connectivity)*, 즉 하나의 큐비트가 양자 게이트를 통해 다른 큐비트와 상호작용할 수 있는 능력이 제한되어 있으며, 이는 *커플링 맵 (Coupling map)*으로 시각화할 수 있습니다."
   ]
  },
  {
   "cell_type": "code",
   "execution_count": null,
   "metadata": {
    "colab": {
     "base_uri": "https://localhost:8080/",
     "height": 422
    },
    "id": "MmqTl1N78Pta",
    "outputId": "709226e3-61a3-4704-e6fb-22a110ede1c0"
   },
   "outputs": [],
   "source": [
    "from qiskit.visualization import plot_coupling_map\n",
    "qubit_coordinates = [[0, 0], [0, 1], [0, 2], [1, 1], [2, 1]]\n",
    "\n",
    "plot_coupling_map(config.n_qubits, qubit_coordinates, config.coupling_map)"
   ]
  },
  {
   "cell_type": "markdown",
   "metadata": {
    "id": "IjOAKjdA8Pte"
   },
   "source": [
    "물리적 큐비트는 다음과 같은 특징들로 설명할 수 있습니다. \n",
    "- *게이트 오류 Gate Error* : 각 큐비트에 대한 기초 게이트의 오류 확률 \n",
    "- *결어긋남 시간 Decoherence time* : 큐비트가 양자 정보를 잃는데 걸리는 시간. \n",
    " - $T_1$, *이완 시간 Relaxation time* : 큐비트가 들뜸 상태  $|1\\rangle$에서 바닥 상태 $|0\\rangle$로 이완되기까지 걸리는 시간. \n",
    " - $T_2$, *디페이징 시간 Dephasing time* : 큐비트가 위상 (phase)를 잃기까지 걸리는 시간.  \n",
    "- *측정 오류 Readout error* : 양자 상태 측정 시 최종 값에서 발생하는 오류. \n",
    "\n",
    "`device_backend.configuration()`는 이름, 버전, 큐비트 수와 같은 정적 (static) 백엔드 설정을 제공하며, `device_backend.properties` 디바이스 캘리브레이션이 가능한 측정 및 보고된 백엔드 특성에 대한 정보를 제공합니다. "
   ]
  },
  {
   "cell_type": "code",
   "execution_count": null,
   "metadata": {
    "colab": {
     "base_uri": "https://localhost:8080/"
    },
    "id": "GNEqZa9R8Ptf",
    "outputId": "86f001a5-2ef4-4206-a8de-e4a7a01ed715"
   },
   "outputs": [],
   "source": [
    "props = device_backend.properties()\n",
    "\n",
    "def display_qubit_info(qubit, properties):\n",
    "    \"\"\"Print a string describing some of reported properties of the given qubit.\"\"\"\n",
    "\n",
    "    # Conversion factors from standard SI units\n",
    "    us = 1e6\n",
    "    ns = 1e9\n",
    "\n",
    "    print(\"Qubit {0} has a \\n\"\n",
    "          \"  - T1 time of {1:.2f} microseconds\\n\"\n",
    "          \"  - T2 time of {2:.2f} microseconds\\n\"\n",
    "          \"  - U2 gate error of {3:.2e}\\n\"\n",
    "          \"  - Readout error of {4:.2e} \".format(\n",
    "              qubit,\n",
    "              properties.t1(qubit) * us,\n",
    "              properties.t2(qubit) * us,\n",
    "              properties.gate_error('sx', qubit),\n",
    "              properties.readout_error(qubit)))\n",
    "\n",
    "display_qubit_info(0, props)"
   ]
  },
  {
   "cell_type": "markdown",
   "metadata": {
    "id": "87Qw0o_38Pth"
   },
   "source": [
    "실제 디바이스 백엔드의 속성을 이용하여 *노이즈 모델 Noise model*을 생성해보도록 하겠습니다. "
   ]
  },
  {
   "cell_type": "code",
   "execution_count": null,
   "metadata": {
    "id": "om921Af48Ptj"
   },
   "outputs": [],
   "source": [
    "sim_lima = AerSimulator.from_backend(device_backend)"
   ]
  },
  {
   "cell_type": "markdown",
   "metadata": {
    "id": "Co-lD9738Ptl"
   },
   "source": [
    "이제 다중 큐비트의 얽힘상태인 *Greenberger–Horne–Zeilinger state (GHZ) state* 를 생성해보도록 하겠습니다.  \n",
    "$$\n",
    "|\\psi\\rangle = \\frac{1}{\\sqrt{2}}(|000\\rangle + |111\\rangle)\n",
    "$$"
   ]
  },
  {
   "cell_type": "code",
   "execution_count": null,
   "metadata": {
    "colab": {
     "base_uri": "https://localhost:8080/",
     "height": 384
    },
    "id": "4Zxfc3sp8Ptq",
    "outputId": "8dc3b243-358b-4b0c-d94a-e05905fa0aff"
   },
   "outputs": [],
   "source": [
    "qr = QuantumRegister(3)\n",
    "cr = ClassicalRegister(3)\n",
    "circuit4 = QuantumCircuit(qr, cr)\n",
    "\n",
    "###### To Do ######\n",
    "\n",
    "\n",
    "\n",
    "\n",
    "\n",
    "###################\n",
    "\n",
    "circuit4.draw(output = 'mpl')"
   ]
  },
  {
   "cell_type": "markdown",
   "metadata": {
    "id": "gCsWZhmb8Ptt"
   },
   "source": [
    "위의 회로도는 Qiskit에서 수학적으로 정의된 양자 게이트를 보여줍니다. 하지만 실제 양자 디바이스에서는 특정 연결성 (connectivity)를 가진 기본 게이트들로만 회로를 구성할 수 있습니다. Qiskit `transpile` 기능은 실제 디바이스의 제약 조건에 따라 회로를 재작성하고 최적화합니다. \n",
    "\n",
    "<img src=\"images/transpiling_core_steps.png\" alt=\"Transpile Step\" width=\"600\"/>\n"
   ]
  },
  {
   "cell_type": "code",
   "execution_count": null,
   "metadata": {
    "colab": {
     "base_uri": "https://localhost:8080/",
     "height": 525
    },
    "id": "tXodt6a68Ptu",
    "outputId": "38d19200-7317-43e5-9210-15d9e0102895"
   },
   "outputs": [],
   "source": [
    "from qiskit import transpile\n",
    "\n",
    "transpiled_circuit = transpile(circuit4, sim_lima)\n",
    "transpiled_circuit.draw(output = \"mpl\")\n"
   ]
  },
  {
   "cell_type": "markdown",
   "metadata": {
    "id": "TnyIsPoM8Pt9"
   },
   "source": [
    "__Question :__ `circuit4` 와 `transpiled_circuit`의 차이점은 무엇인가요 ?\n",
    "\n",
    "__Answer :__"
   ]
  },
  {
   "cell_type": "code",
   "execution_count": null,
   "metadata": {
    "colab": {
     "base_uri": "https://localhost:8080/",
     "height": 535
    },
    "id": "xNdHq3bq8Pt_",
    "outputId": "afe8b442-5c55-4843-f3ec-8b17e09cc5b9"
   },
   "outputs": [],
   "source": [
    "result_noise = sim_lima.run(transpiled_circuit).result()\n",
    "counts_noise = result_noise.get_counts(0)\n",
    "plot_histogram(counts_noise,\n",
    "               title=\"Counts for 3-qubit GHZ state with device noise model\")"
   ]
  },
  {
   "cell_type": "markdown",
   "metadata": {
    "id": "Z4P46Bi-8PuD"
   },
   "source": [
    "__Question :__ 노이즈가 있는 설정에서 양자 회로를 실행하여 결과에서 관찰한 것을 설명하세요. 이상적인 양자 시뮬레이터를 통해 얻은 결과와 어떤 차이가 있나요?\n",
    "\n",
    "__Answer :__"
   ]
  },
  {
   "cell_type": "code",
   "execution_count": null,
   "metadata": {},
   "outputs": [],
   "source": []
  }
 ],
 "metadata": {
  "colab": {
   "provenance": []
  },
  "kernelspec": {
   "display_name": "Python 3 (ipykernel)",
   "language": "python",
   "name": "python3"
  },
  "language_info": {
   "codemirror_mode": {
    "name": "ipython",
    "version": 3
   },
   "file_extension": ".py",
   "mimetype": "text/x-python",
   "name": "python",
   "nbconvert_exporter": "python",
   "pygments_lexer": "ipython3",
   "version": "3.9.7"
  }
 },
 "nbformat": 4,
 "nbformat_minor": 1
}

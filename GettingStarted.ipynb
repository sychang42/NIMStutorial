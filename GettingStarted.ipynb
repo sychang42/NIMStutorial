{
  "cells": [
    {
      "cell_type": "markdown",
      "metadata": {
        "id": "6_sTalKE8Pqb"
      },
      "source": [
        "# Getting Started with Qiskit"
      ]
    },
    {
      "cell_type": "markdown",
      "metadata": {
        "id": "aEXhS_eE8Pqj"
      },
      "source": [
        "### Install Qiskit"
      ]
    },
    {
      "cell_type": "code",
      "execution_count": null,
      "metadata": {
        "colab": {
          "base_uri": "https://localhost:8080/"
        },
        "id": "NmL5zP6P8Pqm",
        "outputId": "4c0749f6-05b4-4227-89db-a7a74f26931e"
      },
      "outputs": [],
      "source": [
        "!pip install qiskit --upgrade\n",
        "!pip install qiskit-ibm-provider\n",
        "!pip install pylatexenc"
      ]
    },
    {
      "cell_type": "markdown",
      "metadata": {
        "id": "y3OHv9wp8Pqs"
      },
      "source": [
        "#### Import Packages"
      ]
    },
    {
      "cell_type": "code",
      "execution_count": null,
      "metadata": {
        "colab": {
          "base_uri": "https://localhost:8080/"
        },
        "id": "xxWAy8xt8Pqv",
        "outputId": "ed86445b-264c-4f70-aede-ab13064a3b07"
      },
      "outputs": [],
      "source": [
        "import numpy as np\n",
        "import qiskit\n",
        "print(qiskit.__version__)\n",
        "from qiskit import QuantumCircuit, QuantumRegister, ClassicalRegister, execute"
      ]
    },
    {
      "cell_type": "markdown",
      "metadata": {
        "id": "AMQxFT8D8Pq2"
      },
      "source": [
        "## 1. Create superposition of states\n",
        "\n",
        "\n",
        "*Superposition* is the fundamental concept to describe the ability of a quantum system to exist in multiple states, that distinguishes it from the classical system.\n",
        "We build a quantum circuit to generate an equiprobable superposition of $|0\\rangle$ and $|1\\rangle$ using a *Hadamard gate* $H$ :\n",
        "$$\n",
        "H|0\\rangle = \\frac{1}{\\sqrt{2}}(|0\\rangle + |1\\rangle) = |+\\rangle\n",
        "$$\n",
        "$$\n",
        "H|1\\rangle = \\frac{1}{\\sqrt{2}}(|0\\rangle - |1\\rangle) = |-\\rangle\n",
        "$$"
      ]
    },
    {
      "cell_type": "markdown",
      "metadata": {
        "id": "dYO_nMy98Pq5"
      },
      "source": [
        "#### Build Quantum Circuits"
      ]
    },
    {
      "cell_type": "code",
      "execution_count": null,
      "metadata": {
        "colab": {
          "base_uri": "https://localhost:8080/",
          "height": 127
        },
        "id": "qh7qTSFK8Pq9",
        "outputId": "8bdf9400-dd86-47ec-c918-7908e6723832"
      },
      "outputs": [],
      "source": [
        "# Create a quantum circuit instance with one qubit\n",
        "circuit1 = QuantumCircuit(1)\n",
        "\n",
        "# Apply Hadamard Gate\n",
        "circuit1.h(0)\n",
        "\n",
        "# Draw quantum circuit\n",
        "circuit1.draw(output = \"mpl\")"
      ]
    },
    {
      "cell_type": "markdown",
      "metadata": {
        "id": "9K0kqB9e8PrA"
      },
      "source": [
        "#### Simulate quantum circuit with statevector simulator"
      ]
    },
    {
      "cell_type": "markdown",
      "metadata": {
        "id": "M_q5I3i08PrE"
      },
      "source": [
        "A `backend` refers to the device or simulator on which a quantum circuit is executed or simulated to obtain results. In Qiskit, we have a list of theoretical simulators that are avilable in open-source."
      ]
    },
    {
      "cell_type": "code",
      "execution_count": null,
      "metadata": {
        "colab": {
          "base_uri": "https://localhost:8080/"
        },
        "id": "hT9kjVu68PrG",
        "outputId": "81d67fec-5952-477a-8acd-1942486a50e6"
      },
      "outputs": [],
      "source": [
        "from qiskit import Aer\n",
        "\n",
        "# Print all the available quantum simulators\n",
        "Aer.backends()"
      ]
    },
    {
      "cell_type": "markdown",
      "metadata": {
        "id": "frzU9JSx8PrI"
      },
      "source": [
        "Let us start from simulating the quantum circuit with Qiskit `statevector_simulator`, the most common backend to simulate an ideal quantum circuit. It returns the quantum state in a vector form."
      ]
    },
    {
      "cell_type": "code",
      "execution_count": null,
      "metadata": {
        "colab": {
          "base_uri": "https://localhost:8080/"
        },
        "id": "_I54-zLu8PrJ",
        "outputId": "07745501-2d86-4468-de51-9afc15942fc7"
      },
      "outputs": [],
      "source": [
        "# Load statevector simulator\n",
        "simulator = Aer.get_backend(\"statevector_simulator\")\n",
        "\n",
        "# Create quatum job to execute\n",
        "job1 = simulator.run(circuit1)\n",
        "\n",
        "# Execute the job\n",
        "result1 = job1.result()\n",
        "\n",
        "state1 = result1.get_statevector(circuit1, decimals = 4)\n",
        "print(state1)"
      ]
    },
    {
      "cell_type": "markdown",
      "metadata": {
        "id": "eSOblB5V8PrL"
      },
      "source": [
        "### Visualizaiton of the quantum state as a bloch sphere"
      ]
    },
    {
      "cell_type": "markdown",
      "metadata": {
        "id": "TH-ewUUF8PrM"
      },
      "source": [
        "Now, let's display the quantum state on the *Bloch Sphere*."
      ]
    },
    {
      "cell_type": "code",
      "execution_count": null,
      "metadata": {
        "colab": {
          "base_uri": "https://localhost:8080/",
          "height": 423
        },
        "id": "1GazgdCm8PrN",
        "outputId": "7e8bfdad-0a2d-4011-a3e8-7864ea921d60"
      },
      "outputs": [],
      "source": [
        "state1.draw(output = \"bloch\")"
      ]
    },
    {
      "cell_type": "markdown",
      "metadata": {
        "id": "6FEzXVyS8PrP"
      },
      "source": [
        "### Test different one qubit gates"
      ]
    },
    {
      "cell_type": "markdown",
      "metadata": {
        "id": "vaBX-umT8PrR"
      },
      "source": [
        "You can test different single quantum gates using `statevector_simulator` and visualize how they act on the bloch sphere."
      ]
    },
    {
      "cell_type": "code",
      "execution_count": null,
      "metadata": {
        "colab": {
          "base_uri": "https://localhost:8080/",
          "height": 206
        },
        "id": "m8CXYen78PrT",
        "outputId": "e7ae81cd-24f8-4d94-89dd-456445e4b522"
      },
      "outputs": [],
      "source": [
        "# Apply RX / RY / S /T gates\n",
        "###### To do ######\n",
        "\n",
        "\n",
        "###################\n",
        "state.draw(output = \"bloch\")"
      ]
    },
    {
      "cell_type": "markdown",
      "metadata": {
        "id": "PnKjMOTA8PrV"
      },
      "source": [
        "## 2. Create Bell state\n",
        "\n",
        "A *Bell state*, also known as an *EPR pair* (Einstein-Podolsky-Rosen pair), is a specific two-qubit state which is maximally entangled. Entanglement is another important phenomenon, which characterizes a quantum system, where the quantum states of two or more particles become correlated in such a way that the state of one particle cannot be described independently of the other, regardless of the distance between them.\n",
        "\n",
        "On the quantum circuit, Bell state can be created by applying a set of quantum states to the initial state $|00\\rangle$ :\n",
        "\n",
        "$$\n",
        "\\begin{align}\n",
        "& \\text{Initial State} = |00\\rangle \\nonumber \\\\ \\to & H_0|00\\rangle  = \\frac{1}{\\sqrt{2}} (|00\\rangle + |10\\rangle) \\nonumber \\\\\n",
        "\\to & CNOT_{01}  \\frac{1}{\\sqrt{2}} (|00\\rangle + |10\\rangle) = \\frac{1}{\\sqrt{2}} (|00\\rangle + |11\\rangle)\n",
        "\\end{align}$$  "
      ]
    },
    {
      "cell_type": "code",
      "execution_count": null,
      "metadata": {
        "id": "stqAsFU18PrX"
      },
      "outputs": [],
      "source": [
        "# Create quantum circuit with two quantum registers and two classical registers\n",
        "circuit2 = QuantumCircuit(2, 2)\n",
        "\n",
        "# Create Bell state following the expression above\n",
        "# Apply Hadamard gate on the first and the second qubit\n",
        "###### To Do ######\n",
        "\n",
        "\n",
        "\n",
        "###################"
      ]
    },
    {
      "cell_type": "code",
      "execution_count": null,
      "metadata": {
        "id": "-qL4PMWK8PrZ"
      },
      "outputs": [],
      "source": [
        "# Visualize the circuit\n",
        "circuit2.draw(output = 'mpl')"
      ]
    },
    {
      "cell_type": "code",
      "execution_count": null,
      "metadata": {
        "id": "dw1LwaZE8Pre"
      },
      "outputs": [],
      "source": [
        "# Create quatum job to execute\n",
        "job2 = simulator.run(circuit2)\n",
        "\n",
        "# Execute the job\n",
        "result2 = job2.result()\n",
        "\n",
        "state2 = result2.get_statevector(circuit2, decimals = 4)\n",
        "print(state2)"
      ]
    },
    {
      "cell_type": "markdown",
      "metadata": {
        "id": "jzK_Suhw8Prj"
      },
      "source": [
        "#### Visualization of the state"
      ]
    },
    {
      "cell_type": "markdown",
      "metadata": {
        "id": "VNg-rMVn8Prm"
      },
      "source": [
        "Multi-qubit states can be visualized with the methods other than the bloch sphere.  \n",
        "- `plot_state_city` : Displays the quantum states as the real and imaginary parts of the state matrix.\n",
        "- `plot_state_hinton` : Sampe as `plot_state_city`, but as a 2D colour plot.\n",
        "- `plot_state_qsphere` : Display the quantum state as a vector on a spherical ball. The thickness of the arrow corresponds to the amplitude of the state, and its color to the phase."
      ]
    },
    {
      "cell_type": "code",
      "execution_count": 9,
      "metadata": {
        "id": "2_lvviV58Prn"
      },
      "outputs": [],
      "source": [
        "from qiskit.visualization import plot_state_city, plot_state_hinton, plot_state_qsphere, \\\n",
        "                                 plot_histogram"
      ]
    },
    {
      "cell_type": "code",
      "execution_count": null,
      "metadata": {
        "id": "uEaGZzUl8Pro"
      },
      "outputs": [],
      "source": [
        "plot_state_city(state2)"
      ]
    },
    {
      "cell_type": "code",
      "execution_count": null,
      "metadata": {
        "id": "GAOWe-tZ8Prq"
      },
      "outputs": [],
      "source": [
        "plot_state_hinton(state2)"
      ]
    },
    {
      "cell_type": "code",
      "execution_count": null,
      "metadata": {
        "id": "EymprXdv8Prs"
      },
      "outputs": [],
      "source": [
        "plot_state_qsphere(state2)"
      ]
    },
    {
      "cell_type": "markdown",
      "metadata": {
        "id": "HhaFo6tW8Pru"
      },
      "source": [
        "__To do :__   Build a quantum circuit to generate the state $|-\\rangle = \\frac{1}{\\sqrt{2}}(|0\\rangle - |1\\rangle)$ and display it using different visualization methods."
      ]
    },
    {
      "cell_type": "markdown",
      "metadata": {
        "id": "F4C5KevW8Prv"
      },
      "source": [
        "#### Simulate with Unitary simulator"
      ]
    },
    {
      "cell_type": "code",
      "execution_count": null,
      "metadata": {
        "id": "gtR15EiF8Prw"
      },
      "outputs": [],
      "source": [
        "# Run the quantum circuit on a unitary simulator backend\n",
        "backend = Aer.get_backend('unitary_simulator')\n",
        "\n",
        "# Create job and execute\n",
        "job2 = backend.run(circuit2)\n",
        "result2 = job2.result()\n",
        "\n",
        "# Show the results\n",
        "print(result2.get_unitary(circuit2, decimals=3))\n"
      ]
    },
    {
      "cell_type": "markdown",
      "metadata": {
        "id": "NWGKIMsl8Prx"
      },
      "source": [
        "#### Simulate with Qasm simulator"
      ]
    },
    {
      "cell_type": "markdown",
      "metadata": {
        "id": "K6fiUeU68Pr0"
      },
      "source": [
        "Until now on, we simulated the quantum circuit. However in reality, we do not have direct access to the quantum state. Instead, each qubit should be *measured* at the end of the quantum circuit in specific basis (generally in the computational basis $|0\\rangle, |1\\rangle$). As soon as the quantum system is measured, the state $|\\psi\\rangle$ *collapses* to the measurement basis $|b\\rangle$ with a probability :\n",
        "$$\n",
        "P(b) == |\\langle b | \\psi \\rangle |^2.\n",
        "$$\n",
        "Unlike the previous steps where the quantum circuit only required `QuantumRegister` to be simulated, we need to add `ClassicalRegister` to measure the quantum circuit."
      ]
    },
    {
      "cell_type": "code",
      "execution_count": null,
      "metadata": {
        "colab": {
          "base_uri": "https://localhost:8080/",
          "height": 255
        },
        "id": "xH0LzQFa8Psi",
        "outputId": "0bccb2b8-dc69-42ac-b900-af29f193b8a4"
      },
      "outputs": [],
      "source": [
        "# Initialize quantum and classical registers\n",
        "qr = QuantumRegister(2)\n",
        "cr = ClassicalRegister(2)\n",
        "\n",
        "# Build quantum circuit\n",
        "circuit3 = QuantumCircuit(qr, cr)\n",
        "\n",
        "#Create Bell state\n",
        "###### To Do ######\n",
        "\n",
        "\n",
        "###################\n",
        "\n",
        "# Measure qubits\n",
        "circuit3.measure(qr, cr)\n",
        "#circuit.measure_all()\n",
        "\n",
        "\n",
        "circuit3.draw(output = 'mpl')"
      ]
    },
    {
      "cell_type": "code",
      "execution_count": null,
      "metadata": {
        "id": "OmJcmGcn8Psl"
      },
      "outputs": [],
      "source": [
        "backend = Aer.get_backend(\"qasm_simulator\")"
      ]
    },
    {
      "cell_type": "code",
      "execution_count": null,
      "metadata": {
        "id": "QYpQqbou8Pso"
      },
      "outputs": [],
      "source": [
        "shots = 1024\n",
        "job3 = execute(circuit3, backend, shots = shots)\n",
        "result3 = job3.result()"
      ]
    },
    {
      "cell_type": "code",
      "execution_count": null,
      "metadata": {
        "colab": {
          "base_uri": "https://localhost:8080/",
          "height": 461
        },
        "id": "ATqMQEk48Psp",
        "outputId": "12e78382-f03f-4cd7-91b2-3d2bce815872"
      },
      "outputs": [],
      "source": [
        "counts = result3.get_counts()\n",
        "plot_histogram(counts)"
      ]
    },
    {
      "cell_type": "markdown",
      "metadata": {
        "id": "AD1k7tc38PtE"
      },
      "source": [
        "### Run using noisy model\n",
        "\n",
        "Till now on, the quantum circuits are simulated in the ideal setting in the absence of noises. However, in reality, quantum computers are inherently prone to errors from various noise sources, such as *decoherence*, *gate errors* and *readout errors*.  \n",
        "\n",
        "Qiskit provides tools to work with [*noise models*](https://qiskit.org/ecosystem/aer/tutorials/3_building_noise_models.html) which mimics the noise experienced by quantum circuits when executed on real quantum hardware. It allows the users to better understand the errors during the execution and the challenges of the quantum algorithms before running it on the real device, which has limited access.\n",
        "\n",
        "In this section, we will run the quantum circuit with a noise model which mimics the real IBM Quantum device *IBMQ_lima*. To do so, we should create first [IBM Quantum](https://quantum-computing.ibm.com/) account.  "
      ]
    },
    {
      "cell_type": "code",
      "execution_count": null,
      "metadata": {
        "id": "I_HdGwQg8PtJ"
      },
      "outputs": [],
      "source": [
        "from qiskit_aer import AerSimulator\n",
        "from qiskit_ibm_provider import IBMProvider"
      ]
    },
    {
      "cell_type": "markdown",
      "metadata": {
        "id": "z6hTA05U8PtK"
      },
      "source": [
        "1. Go to [IBM Quantum](https://quantum-computing.ibm.com/) website.\n",
        "\n",
        "<img src=\"images/ibmq1.png\" alt=\"ibmq_image1\" width=\"600\"/>\n",
        "\n",
        "2. Create a new IBM Quantum account.\n",
        "\n",
        "<img src=\"images/ibmq2.png\" alt=\"ibmq_image2\" width=\"600\"/>\n",
        "\n",
        "4. Go to account setting.\n",
        "\n",
        "<img src=\"images/ibmq3.png\" alt=\"ibmq_image3\" width=\"600\"/>\n",
        "\n",
        "\n",
        "4. Generate API token and copy it.\n",
        "\n",
        "<img src=\"images/ibmq4.png\" alt=\"ibmq_image4\" width=\"600\"/>\n"
      ]
    },
    {
      "cell_type": "code",
      "execution_count": null,
      "metadata": {
        "id": "ZWleIR888PtM"
      },
      "outputs": [],
      "source": [
        "# Save you credential on disck\n",
        "IBMProvider.save_account(\"Your token\", overwrite= True)"
      ]
    },
    {
      "cell_type": "code",
      "execution_count": null,
      "metadata": {
        "id": "H7j58nIT8PtQ"
      },
      "outputs": [],
      "source": [
        "# Load your IBM instance\n",
        "provider = IBMProvider(instance='ibm-q/open/main')"
      ]
    },
    {
      "cell_type": "code",
      "execution_count": null,
      "metadata": {
        "colab": {
          "base_uri": "https://localhost:8080/"
        },
        "id": "jvOvVytW8PtR",
        "outputId": "0ce8f805-ca0e-495b-ea0f-552c6c413320"
      },
      "outputs": [],
      "source": [
        "print(provider.backends())"
      ]
    },
    {
      "cell_type": "code",
      "execution_count": null,
      "metadata": {
        "id": "7L9nQk-z8PtT"
      },
      "outputs": [],
      "source": [
        "# We use IBMQ lima\n",
        "device_backend = provider.get_backend('ibmq_lima')"
      ]
    },
    {
      "cell_type": "code",
      "execution_count": null,
      "metadata": {
        "colab": {
          "base_uri": "https://localhost:8080/"
        },
        "id": "u2_NqxdX8PtU",
        "outputId": "f1991263-30f1-4e1c-e3c1-40d06bc07640"
      },
      "outputs": [],
      "source": [
        "# Display device configuration.\n",
        "\n",
        "config = device_backend.configuration()\n",
        "print(\"This backend is called {} (version {}) with {} qubit{}. \"\n",
        "      \"\\nThe basis gates supported on this device are {}.\"\n",
        "      \"\".format(config.backend_name,\n",
        "                config.backend_version,\n",
        "                config.n_qubits,\n",
        "                '' if config.n_qubits == 1 else 's',\n",
        "                config.basis_gates))"
      ]
    },
    {
      "cell_type": "markdown",
      "metadata": {
        "id": "IXdN3vLH8PtY"
      },
      "source": [
        "Ideally, we assume that all the qubits are connected to all the other qubits. However, on the real quantum computers, the physical qubits have limited *Connectivity*, i.e. the ability to interact with other qubits through quantum gates, which can be visualized with *Coupling Map*."
      ]
    },
    {
      "cell_type": "code",
      "execution_count": null,
      "metadata": {
        "colab": {
          "base_uri": "https://localhost:8080/",
          "height": 422
        },
        "id": "MmqTl1N78Pta",
        "outputId": "709226e3-61a3-4704-e6fb-22a110ede1c0"
      },
      "outputs": [],
      "source": [
        "from qiskit.visualization import plot_coupling_map\n",
        "qubit_coordinates = [[0, 0], [0, 1], [0, 2], [1, 1], [2, 1]]\n",
        "\n",
        "plot_coupling_map(config.n_qubits, qubit_coordinates, config.coupling_map)"
      ]
    },
    {
      "cell_type": "markdown",
      "metadata": {
        "id": "IjOAKjdA8Pte"
      },
      "source": [
        "The physical qubits are described with different features, such as :\n",
        "- *Gate Error* probabilty of the basis gate on each qubit\n",
        "- *Decoherence time* for which a qubit takes to lose its quantum information\n",
        " - $T_1$, *Relaxation time* : Measures how long the qubit stays in the excited state $|1\\rangle$ before it relaxes into the ground state $|0\\rangle$.\n",
        " - $T_2$, *Dephasing time* : Measures how long a qubit to lose the phase of a qubit stays.\n",
        "- *Readout error* : Error that occurs in the final classical value during the measurement.\n",
        "\n",
        "Note that `device_backend.configuration()` gives the static backend setup such as its name, version, number of qubits, while `device_backend.properties` contains the information on the measured and reported backend characteristics, which can be callibrated."
      ]
    },
    {
      "cell_type": "code",
      "execution_count": null,
      "metadata": {
        "colab": {
          "base_uri": "https://localhost:8080/"
        },
        "id": "GNEqZa9R8Ptf",
        "outputId": "86f001a5-2ef4-4206-a8de-e4a7a01ed715"
      },
      "outputs": [],
      "source": [
        "props = device_backend.properties()\n",
        "\n",
        "def display_qubit_info(qubit, properties):\n",
        "    \"\"\"Print a string describing some of reported properties of the given qubit.\"\"\"\n",
        "\n",
        "    # Conversion factors from standard SI units\n",
        "    us = 1e6\n",
        "    ns = 1e9\n",
        "\n",
        "    print(\"Qubit {0} has a \\n\"\n",
        "          \"  - T1 time of {1:.2f} microseconds\\n\"\n",
        "          \"  - T2 time of {2:.2f} microseconds\\n\"\n",
        "          \"  - U2 gate error of {3:.2e}\\n\"\n",
        "          \"  - Readout error of {4:.2e} \".format(\n",
        "              qubit,\n",
        "              properties.t1(qubit) * us,\n",
        "              properties.t2(qubit) * us,\n",
        "              properties.gate_error('sx', qubit),\n",
        "              properties.readout_error(qubit)))\n",
        "\n",
        "display_qubit_info(0, props)"
      ]
    },
    {
      "cell_type": "markdown",
      "metadata": {
        "id": "87Qw0o_38Pth"
      },
      "source": [
        "We generate a *Noise model* from the properties of the real device backend."
      ]
    },
    {
      "cell_type": "code",
      "execution_count": null,
      "metadata": {
        "id": "om921Af48Ptj"
      },
      "outputs": [],
      "source": [
        "sim_lima = AerSimulator.from_backend(device_backend)"
      ]
    },
    {
      "cell_type": "markdown",
      "metadata": {
        "id": "Co-lD9738Ptl"
      },
      "source": [
        "Now, we construct 3-qubits entangled states, so-called *Greenberger–Horne–Zeilinger state (GHZ) state*.  \n",
        "$$\n",
        "|\\psi\\rangle = \\frac{1}{\\sqrt{2}}(|000\\rangle + |111\\rangle)\n",
        "$$"
      ]
    },
    {
      "cell_type": "code",
      "execution_count": null,
      "metadata": {
        "colab": {
          "base_uri": "https://localhost:8080/",
          "height": 384
        },
        "id": "4Zxfc3sp8Ptq",
        "outputId": "8dc3b243-358b-4b0c-d94a-e05905fa0aff"
      },
      "outputs": [],
      "source": [
        "qr = QuantumRegister(3)\n",
        "cr = ClassicalRegister(3)\n",
        "circuit4 = QuantumCircuit(qr, cr)\n",
        "\n",
        "###### To Do ######\n",
        "\n",
        "\n",
        "\n",
        "\n",
        "\n",
        "###################\n",
        "\n",
        "circuit4.draw(output = 'mpl')"
      ]
    },
    {
      "cell_type": "markdown",
      "metadata": {
        "id": "gCsWZhmb8Ptt"
      },
      "source": [
        "The circuit drawing above displays the quantum gates which are mathematically defined in Qiskit. However, on the real quantum devices, the circuits can be only ran with the basis gates with a specific connectivity.  \n",
        "Qiskit `transpile` function allows to rewrite and optimize the circuit based on the real device constrains.\n",
        "\n",
        "<img src=\"images/transpiling_core_steps.png\" alt=\"Transpile Step\" width=\"600\"/>\n"
      ]
    },
    {
      "cell_type": "code",
      "execution_count": null,
      "metadata": {
        "colab": {
          "base_uri": "https://localhost:8080/",
          "height": 525
        },
        "id": "tXodt6a68Ptu",
        "outputId": "38d19200-7317-43e5-9210-15d9e0102895"
      },
      "outputs": [],
      "source": [
        "from qiskit import transpile\n",
        "\n",
        "transpiled_circuit = transpile(circuit4, sim_lima)\n",
        "transpiled_circuit.draw(output = \"mpl\")\n"
      ]
    },
    {
      "cell_type": "markdown",
      "metadata": {
        "id": "TnyIsPoM8Pt9"
      },
      "source": [
        "__Question :__ What is the difference between the `circuit4` and `transpiled_circuit` ?\n",
        "\n",
        "__Answer :__"
      ]
    },
    {
      "cell_type": "code",
      "execution_count": null,
      "metadata": {
        "colab": {
          "base_uri": "https://localhost:8080/",
          "height": 535
        },
        "id": "xNdHq3bq8Pt_",
        "outputId": "afe8b442-5c55-4843-f3ec-8b17e09cc5b9"
      },
      "outputs": [],
      "source": [
        "result_noise = sim_lima.run(transpiled_circuit).result()\n",
        "counts_noise = result_noise.get_counts(0)\n",
        "plot_histogram(counts_noise,\n",
        "               title=\"Counts for 3-qubit GHZ state with device noise model\")"
      ]
    },
    {
      "cell_type": "markdown",
      "metadata": {
        "id": "Z4P46Bi-8PuD"
      },
      "source": [
        "__Question :__ Explain what you observe in the result by running the quantum circuit in a noisy setup. What is the difference from the result obtained in the ideal setup?\n",
        "\n",
        "__Answer :__"
      ]
    }
  ],
  "metadata": {
    "colab": {
      "provenance": []
    },
    "kernelspec": {
      "display_name": "base",
      "language": "python",
      "name": "python3"
    },
    "language_info": {
      "codemirror_mode": {
        "name": "ipython",
        "version": 3
      },
      "file_extension": ".py",
      "mimetype": "text/x-python",
      "name": "python",
      "nbconvert_exporter": "python",
      "pygments_lexer": "ipython3",
      "version": "3.8.12"
    },
    "orig_nbformat": 4
  },
  "nbformat": 4,
  "nbformat_minor": 0
}
